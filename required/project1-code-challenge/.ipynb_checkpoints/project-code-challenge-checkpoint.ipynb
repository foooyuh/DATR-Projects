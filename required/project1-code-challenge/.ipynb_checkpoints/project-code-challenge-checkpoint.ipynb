{
 "cells": [
  {
   "cell_type": "markdown",
   "metadata": {},
   "source": [
    "<img src=\"http://imgur.com/1ZcRyrc.png\" style=\"float: left; margin: 20px; height: 55px\">\n",
    "\n",
    "# Project 1: Python Coding Exercises\n",
    "\n",
    "_Authors: Joseph Nelson (DC) _\n",
    "\n",
    "---"
   ]
  },
  {
   "cell_type": "markdown",
   "metadata": {},
   "source": [
    "The following code challenges are drawn from common exercises used in technical interviews.\n",
    "\n",
    "Please note that there may be several ways to approach each challenge. If you get stuck, try mapping out your approach in pseudocode first. Finally, while solutions to problems like these may be found online, remember that if you copy/paste code that you can't explain, you'll be missing out on the point of the project. The only way to truly learn a new skill is through practice, trial, and error - we can only help you improve by understanding where you are having trouble."
   ]
  },
  {
   "cell_type": "markdown",
   "metadata": {},
   "source": [
    "### Challenge 1: Largest Palindrome\n",
    "A palindromic number reads the same both ways. For example, 1234321 is a palindrome. The largest palindrome made from the product of two two-digit numbers is 9009 = 91 × 99. Find the largest palindrome made from the product of two three-digit numbers. Afterward, write a brief explanation walking through your code's logic in markdown."
   ]
  },
  {
   "cell_type": "code",
   "execution_count": 7,
   "metadata": {},
   "outputs": [
    {
     "name": "stdout",
     "output_type": "stream",
     "text": [
      "906609 = 993x913 is the largest palindrome found in the given range.\n"
     ]
    }
   ],
   "source": [
    "largest_palindrome = 1\n",
    "\n",
    "for n1 in range(999,99,-1):\n",
    "    for n2 in range(n1,99,-1):\n",
    "        attempt = str(n1 * n2)\n",
    "        if (attempt == attempt[::-1]) and (int(attempt) > largest_palindrome):\n",
    "            largest_palindrome = int(attempt)\n",
    "            first_digit = n1\n",
    "            second_digit = n2\n",
    "            \n",
    "\n",
    "if largest_palindrome:\n",
    "    print(f\"{largest_palindrome} = {first_digit}x{second_digit} is the largest palindrome found in the given range.\")\n",
    "else:\n",
    "    print(\"No palindrome found.\")"
   ]
  },
  {
   "cell_type": "markdown",
   "metadata": {},
   "source": [
    "Explanation: \n",
    "\n",
    "Since we are looking to get the largest palindrome from the product of 2 3-digit numbers, we can loop through all possible pairs of 3-digit numbers. This can be done by writing a for-loop within another for-loop where each loop represents a 3-digit number. For the second loop, we can start from the number of the first loop as the previous numbers would have been paired up before\n",
    "\n",
    "For each product, we will check if the string of the product is the same as the reverse string. If such a match occurs, we will compare it to the previous palindrome iden\n",
    "\n",
    "If no palindrome is found, indicate accordingly."
   ]
  },
  {
   "cell_type": "markdown",
   "metadata": {},
   "source": [
    "\n",
    "### Challenge 2: Summation of Primes\n",
    "The sum of the primes below 10 is 2 + 3 + 5 + 7 = 17. Find the sum of all the primes below 2,000. Afterward, write a brief explanation walking through your code's logic in markdown."
   ]
  },
  {
   "cell_type": "code",
   "execution_count": 48,
   "metadata": {},
   "outputs": [
    {
     "name": "stdout",
     "output_type": "stream",
     "text": [
      "list of primes: [2, 3, 5, 7, 11, 13, 17, 19, 23, 29, 31, 37, 41, 43, 47, 53, 59, 61, 67, 71, 73, 79, 83, 89, 97, 101, 103, 107, 109, 113, 127, 131, 137, 139, 149, 151, 157, 163, 167, 173, 179, 181, 191, 193, 197, 199, 211, 223, 227, 229, 233, 239, 241, 251, 257, 263, 269, 271, 277, 281, 283, 293, 307, 311, 313, 317, 331, 337, 347, 349, 353, 359, 367, 373, 379, 383, 389, 397, 401, 409, 419, 421, 431, 433, 439, 443, 449, 457, 461, 463, 467, 479, 487, 491, 499, 503, 509, 521, 523, 541, 547, 557, 563, 569, 571, 577, 587, 593, 599, 601, 607, 613, 617, 619, 631, 641, 643, 647, 653, 659, 661, 673, 677, 683, 691, 701, 709, 719, 727, 733, 739, 743, 751, 757, 761, 769, 773, 787, 797, 809, 811, 821, 823, 827, 829, 839, 853, 857, 859, 863, 877, 881, 883, 887, 907, 911, 919, 929, 937, 941, 947, 953, 967, 971, 977, 983, 991, 997, 1009, 1013, 1019, 1021, 1031, 1033, 1039, 1049, 1051, 1061, 1063, 1069, 1087, 1091, 1093, 1097, 1103, 1109, 1117, 1123, 1129, 1151, 1153, 1163, 1171, 1181, 1187, 1193, 1201, 1213, 1217, 1223, 1229, 1231, 1237, 1249, 1259, 1277, 1279, 1283, 1289, 1291, 1297, 1301, 1303, 1307, 1319, 1321, 1327, 1361, 1367, 1373, 1381, 1399, 1409, 1423, 1427, 1429, 1433, 1439, 1447, 1451, 1453, 1459, 1471, 1481, 1483, 1487, 1489, 1493, 1499, 1511, 1523, 1531, 1543, 1549, 1553, 1559, 1567, 1571, 1579, 1583, 1597, 1601, 1607, 1609, 1613, 1619, 1621, 1627, 1637, 1657, 1663, 1667, 1669, 1693, 1697, 1699, 1709, 1721, 1723, 1733, 1741, 1747, 1753, 1759, 1777, 1783, 1787, 1789, 1801, 1811, 1823, 1831, 1847, 1861, 1867, 1871, 1873, 1877, 1879, 1889, 1901, 1907, 1913, 1931, 1933, 1949, 1951, 1973, 1979, 1987, 1993, 1997, 1999]\n"
     ]
    },
    {
     "data": {
      "text/plain": [
       "277050"
      ]
     },
     "execution_count": 48,
     "metadata": {},
     "output_type": "execute_result"
    }
   ],
   "source": [
    "primes = []\n",
    "\n",
    "for num in range(1, 2000):\n",
    "    if num == 1:\n",
    "        continue\n",
    "    elif num == 2:\n",
    "        primes.append(num)    \n",
    "    else:\n",
    "        if num//2 <= 2:\n",
    "            upper_limit = num\n",
    "        else:\n",
    "            upper_limit = num//2\n",
    "            \n",
    "        for factor in range(2, upper_limit):\n",
    "            prime = True\n",
    "            if num%factor == 0:\n",
    "                prime = False\n",
    "                break\n",
    "        if prime:\n",
    "            primes.append(num)\n",
    "        \n",
    "\n",
    "print(f\"list of primes: {primes}\")\n",
    "print(f\"sum: {sum(primes)}\")"
   ]
  },
  {
   "cell_type": "markdown",
   "metadata": {},
   "source": [
    "Explanation:\n",
    "\n",
    "Loop through all the numbers from 1-1999 (below 2000) with a for-loop. If the number is a prime, collect it in a list of primes. Once all the numbers have been iterated through, sum all the prime numbers in the list of primes.\n",
    "\n",
    "To find prime numbers, we have a few rules:\n",
    "1. 1 is not a prime. If we are at 1, continue to the next number.\n",
    "1. 2 is the smallest prime. If we are at 2, append it to the list of primes.\n",
    "1. For the rest, to determine if it is a prime or not, loop through all the numbers less than itself (excluding 1 and itself), and check if it is divisible by any of them. If it is, it is not a prime. Else, it is a prime. We do not necessarily have to always loop through all the numbers less than itself. Since 2 is the smallest possible factor, the largest possible factor is half the number i.e. (number/2). Hence, we just have to check:\n",
    "    - If the floor of (number/2) <= 2, loop through all the numbers less than itself (excluding 1).\n",
    "    - If the floor of (number/2) > 2, loop through all numbers up to the floor of (number/2)."
   ]
  },
  {
   "cell_type": "markdown",
   "metadata": {},
   "source": [
    "### Challenge 3: Multiples of 3 and 5\n",
    "If we list all of the natural numbers below 10 that are multiples of 3 or 5, we get 3, 5, 6, and 9. The sum of these multiples is 23. Find the sum of all the multiples of 3 and 5 below 1,000. Afterward, write a brief explanation walking through your code's logic in markdown."
   ]
  },
  {
   "cell_type": "code",
   "execution_count": 52,
   "metadata": {},
   "outputs": [
    {
     "name": "stdout",
     "output_type": "stream",
     "text": [
      "natural numbers below 1000 that are multiples of 3/5: [3, 5, 6, 9, 10, 12, 15, 18, 20, 21, 24, 25, 27, 30, 33, 35, 36, 39, 40, 42, 45, 48, 50, 51, 54, 55, 57, 60, 63, 65, 66, 69, 70, 72, 75, 78, 80, 81, 84, 85, 87, 90, 93, 95, 96, 99, 100, 102, 105, 108, 110, 111, 114, 115, 117, 120, 123, 125, 126, 129, 130, 132, 135, 138, 140, 141, 144, 145, 147, 150, 153, 155, 156, 159, 160, 162, 165, 168, 170, 171, 174, 175, 177, 180, 183, 185, 186, 189, 190, 192, 195, 198, 200, 201, 204, 205, 207, 210, 213, 215, 216, 219, 220, 222, 225, 228, 230, 231, 234, 235, 237, 240, 243, 245, 246, 249, 250, 252, 255, 258, 260, 261, 264, 265, 267, 270, 273, 275, 276, 279, 280, 282, 285, 288, 290, 291, 294, 295, 297, 300, 303, 305, 306, 309, 310, 312, 315, 318, 320, 321, 324, 325, 327, 330, 333, 335, 336, 339, 340, 342, 345, 348, 350, 351, 354, 355, 357, 360, 363, 365, 366, 369, 370, 372, 375, 378, 380, 381, 384, 385, 387, 390, 393, 395, 396, 399, 400, 402, 405, 408, 410, 411, 414, 415, 417, 420, 423, 425, 426, 429, 430, 432, 435, 438, 440, 441, 444, 445, 447, 450, 453, 455, 456, 459, 460, 462, 465, 468, 470, 471, 474, 475, 477, 480, 483, 485, 486, 489, 490, 492, 495, 498, 500, 501, 504, 505, 507, 510, 513, 515, 516, 519, 520, 522, 525, 528, 530, 531, 534, 535, 537, 540, 543, 545, 546, 549, 550, 552, 555, 558, 560, 561, 564, 565, 567, 570, 573, 575, 576, 579, 580, 582, 585, 588, 590, 591, 594, 595, 597, 600, 603, 605, 606, 609, 610, 612, 615, 618, 620, 621, 624, 625, 627, 630, 633, 635, 636, 639, 640, 642, 645, 648, 650, 651, 654, 655, 657, 660, 663, 665, 666, 669, 670, 672, 675, 678, 680, 681, 684, 685, 687, 690, 693, 695, 696, 699, 700, 702, 705, 708, 710, 711, 714, 715, 717, 720, 723, 725, 726, 729, 730, 732, 735, 738, 740, 741, 744, 745, 747, 750, 753, 755, 756, 759, 760, 762, 765, 768, 770, 771, 774, 775, 777, 780, 783, 785, 786, 789, 790, 792, 795, 798, 800, 801, 804, 805, 807, 810, 813, 815, 816, 819, 820, 822, 825, 828, 830, 831, 834, 835, 837, 840, 843, 845, 846, 849, 850, 852, 855, 858, 860, 861, 864, 865, 867, 870, 873, 875, 876, 879, 880, 882, 885, 888, 890, 891, 894, 895, 897, 900, 903, 905, 906, 909, 910, 912, 915, 918, 920, 921, 924, 925, 927, 930, 933, 935, 936, 939, 940, 942, 945, 948, 950, 951, 954, 955, 957, 960, 963, 965, 966, 969, 970, 972, 975, 978, 980, 981, 984, 985, 987, 990, 993, 995, 996, 999]\n",
      "sum: 233168\n"
     ]
    }
   ],
   "source": [
    "max_no = 1000\n",
    "\n",
    "mult_3_5 = []\n",
    "\n",
    "no = 1\n",
    "\n",
    "while no < max_no:\n",
    "    if (no%3==0) or (no%5==0):\n",
    "        mult_3_5.append(no)\n",
    "    no += 1\n",
    "\n",
    "print(f\"natural numbers below {max_no} that are multiples of 3/5: {mult_3_5}\")\n",
    "print(f\"sum: {sum(mult_3_5)}\")\n",
    "    "
   ]
  },
  {
   "cell_type": "markdown",
   "metadata": {},
   "source": [
    "Explanation:\n",
    "\n",
    "Loop through all the numbers from 1-999 (natural numbers below 1000, technically we can start from 3 instead of 1) with a while-loop. If the number is divisible by 3 or 5, collect it in a list. Once all the numbers have been iterated through, sum all the numbers in the list."
   ]
  },
  {
   "cell_type": "markdown",
   "metadata": {},
   "source": [
    "### Challenge 4: String Compressor\n",
    "Implement a method to perform basic string compression using the counts of repeated characters. (This is called run-length encoding.) For example, the string \"aabcccccaaa\" would become a2b1c5a3. If the “compressed” string would not become smaller than the original string, your method should return the original string. You can assume the string has only uppercase and lowercase letters (a–z). Specify whether your solution is case sensitive or case insensitive and what you would need to change to make it the other. Afterward, write a brief explanation walking through your code's logic in markdown."
   ]
  },
  {
   "cell_type": "code",
   "execution_count": 62,
   "metadata": {},
   "outputs": [
    {
     "name": "stdout",
     "output_type": "stream",
     "text": [
      "String to be compressed: aabbaaabbc\n",
      "Processed string: a2b2a3b2c1\n"
     ]
    }
   ],
   "source": [
    "string = input(\"String to be compressed: \")\n",
    "\n",
    "char_pairs = []\n",
    "to_compress = False\n",
    "\n",
    "\n",
    "for pos, curr_char in enumerate(string):\n",
    "    if pos == 0:\n",
    "        prev_char = curr_char\n",
    "        char_count = 1\n",
    "        if pos == len(string)-1:\n",
    "            char_pairs.append([prev_char, char_count])\n",
    "    \n",
    "    elif curr_char != prev_char:\n",
    "        char_pairs.append([prev_char, char_count])\n",
    "        prev_char = curr_char\n",
    "        char_count = 1\n",
    "        if pos == len(string)-1:\n",
    "            char_pairs.append([prev_char, char_count])\n",
    "        \n",
    "    # curr_char == prev_char\n",
    "    else:\n",
    "        char_count += 1\n",
    "        to_compress = True\n",
    "        if pos == len(string)-1:\n",
    "            char_pairs.append([prev_char, char_count])\n",
    "\n",
    "    \n",
    "# print(char_pairs)\n",
    "\n",
    "if to_compress:\n",
    "    compressed_string = \"\".join([str(element) for pair in char_pairs for element in pair])\n",
    "    print(f\"Processed string: {compressed_string}\")\n",
    "else:\n",
    "    print(f\"Processed string: {string}\")  "
   ]
  },
  {
   "cell_type": "markdown",
   "metadata": {},
   "source": [
    "This solution is case-sensitive. It will not standardise the case of the characters in the string, and will treat both 'A' and 'a' as different characters.\n",
    "\n",
    "To make this solution case-insenstive, we can stardardise the case of all the characters in the string by simply applying an `upper()` or `lower()` function to the string before traversing the elements of it."
   ]
  },
  {
   "cell_type": "markdown",
   "metadata": {},
   "source": [
    "Explanation:\n",
    "\n",
    "We will traverse along the string and pair the characters up with their associated count. The character pairs identified will not combine the counts for the same characters i.e. for a string 'aabaaa', the character pairs will be `[['a', 2], ['b', 1], ['a', 3]]` and not `[['a', 5], ['b', 1]]`. The character pairs are identified as such:\n",
    "1. Each current character being traversed is labelled as `curr_char`.\n",
    "1. For the character in the first position (`pos == 0`), we will initiate the count (`char_count`) of it to 1, and assign the `curr_char` to the variable `prev_char` which will indicate what the previous character is before we move on to the next character.\n",
    "1. For the rest of the characters, we will split them up into 2 categories:\n",
    "    1. The current character is different from the previous character - If this is the case, we will add the character (`prev_char`) and its associated count (`char_count`) to a list (`char_pairs`). Then, we will re-initiate the `prev_char` and `char_count` variable for the new character.\n",
    "    1. The current character is same as the previous character - If this is the case, we will increase (+1) the count (`char_count`) which is associated to both the current and previous character since they are the same.\n",
    "1. In all cases, if we are at the last character (`pos == len(string)-1`), we will add the character (`prev_char`) and its associated count (`char_count`) to a list (`char_pairs`).\n",
    "\n",
    "Since we only have to compress strings that have a same character appearing more than once consecutively, we will include a flag (`to_compress`) that tells us whether this occurs. By default, `to_compress` is `False`, but as long as the condition where the current character is the same as the previous character (the `else` condition) is satisfied, `to_compress` will be changed to `True`.\n",
    "\n",
    "If `to_compress` is `True`, we will returned the compressed string by simply concatenating the nested list containing all the character pairs."
   ]
  },
  {
   "cell_type": "markdown",
   "metadata": {},
   "source": [
    "### *BONUS* Challenge: FizzBuzz\n",
    "Write a program that prints all of the numbers from 1 to 100. For multiples of 3, instead of the number, print \"Fizz;\" for multiples of 5, print \"Buzz.\" For numbers that are multiples of both 3 and 5, print \"FizzBuzz.\" Afterward, write a brief explanation walking through your code's logic in markdown."
   ]
  },
  {
   "cell_type": "code",
   "execution_count": 45,
   "metadata": {},
   "outputs": [
    {
     "name": "stdout",
     "output_type": "stream",
     "text": [
      "1\n",
      "2\n",
      "Fizz\n",
      "4\n",
      "Buzz\n",
      "Fizz\n",
      "7\n",
      "8\n",
      "Fizz\n",
      "Buzz\n",
      "11\n",
      "Fizz\n",
      "13\n",
      "14\n",
      "FizzBuzz\n",
      "16\n",
      "17\n",
      "Fizz\n",
      "19\n",
      "Buzz\n",
      "Fizz\n",
      "22\n",
      "23\n",
      "Fizz\n",
      "Buzz\n",
      "26\n",
      "Fizz\n",
      "28\n",
      "29\n",
      "FizzBuzz\n",
      "31\n",
      "32\n",
      "Fizz\n",
      "34\n",
      "Buzz\n",
      "Fizz\n",
      "37\n",
      "38\n",
      "Fizz\n",
      "Buzz\n",
      "41\n",
      "Fizz\n",
      "43\n",
      "44\n",
      "FizzBuzz\n",
      "46\n",
      "47\n",
      "Fizz\n",
      "49\n",
      "Buzz\n",
      "Fizz\n",
      "52\n",
      "53\n",
      "Fizz\n",
      "Buzz\n",
      "56\n",
      "Fizz\n",
      "58\n",
      "59\n",
      "FizzBuzz\n",
      "61\n",
      "62\n",
      "Fizz\n",
      "64\n",
      "Buzz\n",
      "Fizz\n",
      "67\n",
      "68\n",
      "Fizz\n",
      "Buzz\n",
      "71\n",
      "Fizz\n",
      "73\n",
      "74\n",
      "FizzBuzz\n",
      "76\n",
      "77\n",
      "Fizz\n",
      "79\n",
      "Buzz\n",
      "Fizz\n",
      "82\n",
      "83\n",
      "Fizz\n",
      "Buzz\n",
      "86\n",
      "Fizz\n",
      "88\n",
      "89\n",
      "FizzBuzz\n",
      "91\n",
      "92\n",
      "Fizz\n",
      "94\n",
      "Buzz\n",
      "Fizz\n",
      "97\n",
      "98\n",
      "Fizz\n",
      "Buzz\n"
     ]
    }
   ],
   "source": [
    "for number in range(1, 101):\n",
    "    if number%15 == 0:\n",
    "        print(\"FizzBuzz\")\n",
    "    elif number%3 == 0:\n",
    "        print(\"Fizz\")\n",
    "    elif number%5 == 0:\n",
    "        print(\"Buzz\")\n",
    "    else:\n",
    "        print(number)"
   ]
  },
  {
   "cell_type": "markdown",
   "metadata": {},
   "source": [
    "Explanation:\n",
    "\n",
    "Loop through all the numbers from 1-100. We will check if the following conditions are satisfied in the specified  order and perform the corresponding actions:\n",
    "\n",
    "1. If the number is divisible by 15 (both 3 and 5), print \"FizzBuzz\".\n",
    "1. If the number is divisible by 3, print \"Fizz\".\n",
    "1. If the number is divisible by 5, print \"Buzz\".\n",
    "1. Else, print the number.\n",
    "\n",
    "Condition 1 has to come before condition 2/3 else, a number that is divisible by 15 will satifiy the conditions in condition 2/3 and not be identified."
   ]
  }
 ],
 "metadata": {
  "anaconda-cloud": {},
  "kernelspec": {
   "display_name": "Python 3 (ipykernel)",
   "language": "python",
   "name": "python3"
  },
  "language_info": {
   "codemirror_mode": {
    "name": "ipython",
    "version": 3
   },
   "file_extension": ".py",
   "mimetype": "text/x-python",
   "name": "python",
   "nbconvert_exporter": "python",
   "pygments_lexer": "ipython3",
   "version": "3.9.12"
  }
 },
 "nbformat": 4,
 "nbformat_minor": 2
}
